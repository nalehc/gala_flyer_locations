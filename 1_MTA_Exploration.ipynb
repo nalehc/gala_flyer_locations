{
 "cells": [
  {
   "cell_type": "markdown",
   "metadata": {},
   "source": [
    "**Topic:**        Project Benson   \n",
    "**Subject:**      Explore MTA turnstile data  \n",
    "**Date:**         07/03/2018  \n",
    "**Name:**         Auste Mastaviciute  \n",
    "**Worked with:**  Billy, Chelan, Alan, Joyce, Xu"
   ]
  },
  {
   "cell_type": "code",
   "execution_count": 1,
   "metadata": {},
   "outputs": [],
   "source": [
    "import numpy as np\n",
    "import pandas as pd\n",
    "import matplotlib.pyplot as plt\n",
    "\n",
    "%matplotlib inline"
   ]
  },
  {
   "cell_type": "code",
   "execution_count": 2,
   "metadata": {},
   "outputs": [],
   "source": [
    "from datetime import datetime as dt\n",
    "import datetime\n",
    "import dateutil.parser"
   ]
  },
  {
   "cell_type": "code",
   "execution_count": 3,
   "metadata": {},
   "outputs": [],
   "source": [
    "# various options in pandas\n",
    "pd.set_option('display.max_columns', None)\n",
    "pd.set_option('display.max_rows', 50)\n",
    "pd.set_option('display.precision', 3)"
   ]
  },
  {
   "cell_type": "markdown",
   "metadata": {},
   "source": [
    "**Import Data from MTA website**"
   ]
  },
  {
   "cell_type": "code",
   "execution_count": 4,
   "metadata": {},
   "outputs": [],
   "source": [
    "def fix_time(num):\n",
    "    if len(str(num)) == 2:\n",
    "        return str(num)\n",
    "    else:\n",
    "        return '0'+str(num)\n",
    "\n",
    "def get_week_nums(month,yrs_back):\n",
    "    week_list = []\n",
    "    ref_date = datetime.date(2018,6,30)\n",
    "    weeks_back = yrs_back * 52\n",
    "    for i in range(weeks_back):\n",
    "        week_shift = datetime.timedelta(-7 * i)\n",
    "        new = ref_date + week_shift\n",
    "        yr = str(new.year)[-2:]\n",
    "        mt = fix_time(new.month)\n",
    "        day = fix_time(new.day)\n",
    "        string = yr + mt + day\n",
    "        if int(mt) == month:\n",
    "            week_list.append(int(string))\n",
    "    return week_list"
   ]
  },
  {
   "cell_type": "code",
   "execution_count": 5,
   "metadata": {},
   "outputs": [
    {
     "data": {
      "text/html": [
       "<div>\n",
       "<style scoped>\n",
       "    .dataframe tbody tr th:only-of-type {\n",
       "        vertical-align: middle;\n",
       "    }\n",
       "\n",
       "    .dataframe tbody tr th {\n",
       "        vertical-align: top;\n",
       "    }\n",
       "\n",
       "    .dataframe thead th {\n",
       "        text-align: right;\n",
       "    }\n",
       "</style>\n",
       "<table border=\"1\" class=\"dataframe\">\n",
       "  <thead>\n",
       "    <tr style=\"text-align: right;\">\n",
       "      <th></th>\n",
       "      <th>C/A</th>\n",
       "      <th>UNIT</th>\n",
       "      <th>SCP</th>\n",
       "      <th>STATION</th>\n",
       "      <th>LINENAME</th>\n",
       "      <th>DIVISION</th>\n",
       "      <th>DATE</th>\n",
       "      <th>TIME</th>\n",
       "      <th>DESC</th>\n",
       "      <th>ENTRIES</th>\n",
       "      <th>EXITS</th>\n",
       "    </tr>\n",
       "  </thead>\n",
       "  <tbody>\n",
       "    <tr>\n",
       "      <th>0</th>\n",
       "      <td>A002</td>\n",
       "      <td>R051</td>\n",
       "      <td>02-00-00</td>\n",
       "      <td>59 ST</td>\n",
       "      <td>NQR456W</td>\n",
       "      <td>BMT</td>\n",
       "      <td>06/23/2018</td>\n",
       "      <td>00:00:00</td>\n",
       "      <td>REGULAR</td>\n",
       "      <td>6667150</td>\n",
       "      <td>2259901</td>\n",
       "    </tr>\n",
       "    <tr>\n",
       "      <th>1</th>\n",
       "      <td>A002</td>\n",
       "      <td>R051</td>\n",
       "      <td>02-00-00</td>\n",
       "      <td>59 ST</td>\n",
       "      <td>NQR456W</td>\n",
       "      <td>BMT</td>\n",
       "      <td>06/23/2018</td>\n",
       "      <td>04:00:00</td>\n",
       "      <td>REGULAR</td>\n",
       "      <td>6667173</td>\n",
       "      <td>2259909</td>\n",
       "    </tr>\n",
       "    <tr>\n",
       "      <th>2</th>\n",
       "      <td>A002</td>\n",
       "      <td>R051</td>\n",
       "      <td>02-00-00</td>\n",
       "      <td>59 ST</td>\n",
       "      <td>NQR456W</td>\n",
       "      <td>BMT</td>\n",
       "      <td>06/23/2018</td>\n",
       "      <td>08:00:00</td>\n",
       "      <td>REGULAR</td>\n",
       "      <td>6667189</td>\n",
       "      <td>2259938</td>\n",
       "    </tr>\n",
       "    <tr>\n",
       "      <th>3</th>\n",
       "      <td>A002</td>\n",
       "      <td>R051</td>\n",
       "      <td>02-00-00</td>\n",
       "      <td>59 ST</td>\n",
       "      <td>NQR456W</td>\n",
       "      <td>BMT</td>\n",
       "      <td>06/23/2018</td>\n",
       "      <td>12:00:00</td>\n",
       "      <td>REGULAR</td>\n",
       "      <td>6667305</td>\n",
       "      <td>2260006</td>\n",
       "    </tr>\n",
       "    <tr>\n",
       "      <th>4</th>\n",
       "      <td>A002</td>\n",
       "      <td>R051</td>\n",
       "      <td>02-00-00</td>\n",
       "      <td>59 ST</td>\n",
       "      <td>NQR456W</td>\n",
       "      <td>BMT</td>\n",
       "      <td>06/23/2018</td>\n",
       "      <td>16:00:00</td>\n",
       "      <td>REGULAR</td>\n",
       "      <td>6667534</td>\n",
       "      <td>2260066</td>\n",
       "    </tr>\n",
       "  </tbody>\n",
       "</table>\n",
       "</div>"
      ],
      "text/plain": [
       "    C/A  UNIT       SCP STATION LINENAME DIVISION        DATE      TIME  \\\n",
       "0  A002  R051  02-00-00   59 ST  NQR456W      BMT  06/23/2018  00:00:00   \n",
       "1  A002  R051  02-00-00   59 ST  NQR456W      BMT  06/23/2018  04:00:00   \n",
       "2  A002  R051  02-00-00   59 ST  NQR456W      BMT  06/23/2018  08:00:00   \n",
       "3  A002  R051  02-00-00   59 ST  NQR456W      BMT  06/23/2018  12:00:00   \n",
       "4  A002  R051  02-00-00   59 ST  NQR456W      BMT  06/23/2018  16:00:00   \n",
       "\n",
       "      DESC  ENTRIES  \\\n",
       "0  REGULAR  6667150   \n",
       "1  REGULAR  6667173   \n",
       "2  REGULAR  6667189   \n",
       "3  REGULAR  6667305   \n",
       "4  REGULAR  6667534   \n",
       "\n",
       "   EXITS                                                                 \n",
       "0                                            2259901                     \n",
       "1                                            2259909                     \n",
       "2                                            2259938                     \n",
       "3                                            2260006                     \n",
       "4                                            2260066                     "
      ]
     },
     "execution_count": 5,
     "metadata": {},
     "output_type": "execute_result"
    }
   ],
   "source": [
    "def scrape(week_nums):\n",
    "    \"\"\"Gets the data from MTA website and loads it into a pandas DataFrame\"\"\"\n",
    "    url = 'http://web.mta.info/developers/data/nyct/turnstile/turnstile_{}.txt'\n",
    "    dfs = []\n",
    "    for week_num in week_nums:\n",
    "        file_url = url.format(week_num)\n",
    "        dfs.append(pd.read_csv(file_url))\n",
    "    return pd.concat(dfs)\n",
    "\n",
    "week_nums = get_week_nums(6, 3)\n",
    "turnstiles_df = scrape(week_nums)\n",
    "turnstiles_df.head()"
   ]
  },
  {
   "cell_type": "markdown",
   "metadata": {},
   "source": [
    "**Data Formating**"
   ]
  },
  {
   "cell_type": "code",
   "execution_count": 6,
   "metadata": {
    "scrolled": true
   },
   "outputs": [
    {
     "data": {
      "text/plain": [
       "Index(['C/A', 'UNIT', 'SCP', 'STATION', 'LINENAME', 'DIVISION', 'DATE', 'TIME',\n",
       "       'DESC', 'ENTRIES',\n",
       "       'EXITS                                                               '],\n",
       "      dtype='object')"
      ]
     },
     "execution_count": 6,
     "metadata": {},
     "output_type": "execute_result"
    }
   ],
   "source": [
    "turnstiles_df.columns"
   ]
  },
  {
   "cell_type": "code",
   "execution_count": 7,
   "metadata": {},
   "outputs": [
    {
     "data": {
      "text/plain": [
       "Index(['C/A', 'UNIT', 'SCP', 'STATION', 'LINENAME', 'DIVISION', 'DATE', 'TIME',\n",
       "       'DESC', 'ENTRIES', 'EXITS'],\n",
       "      dtype='object')"
      ]
     },
     "execution_count": 7,
     "metadata": {},
     "output_type": "execute_result"
    }
   ],
   "source": [
    "#Trim the names of the columns from all the unneccesary white space\n",
    "turnstiles_df.columns = turnstiles_df.columns.str.strip()\n",
    "turnstiles_df.columns"
   ]
  },
  {
   "cell_type": "code",
   "execution_count": 8,
   "metadata": {},
   "outputs": [],
   "source": [
    "#Merge the DATE and TIME columns and format as DateTime rather than string\n",
    "turnstiles_df['DATETIME'] = pd.to_datetime(turnstiles_df['DATE'] +' '+ turnstiles_df['TIME'], infer_datetime_format=True)\n"
   ]
  },
  {
   "cell_type": "code",
   "execution_count": 9,
   "metadata": {},
   "outputs": [],
   "source": [
    "#Add WEEKDAY column\n",
    "turnstiles_df['WEEKDAY'] = turnstiles_df['DATETIME'].dt.weekday_name\n",
    "#turnstiles_df.head()\n"
   ]
  },
  {
   "cell_type": "markdown",
   "metadata": {},
   "source": [
    "## Data Exploration & Cleaning"
   ]
  },
  {
   "cell_type": "code",
   "execution_count": 10,
   "metadata": {},
   "outputs": [
    {
     "name": "stdout",
     "output_type": "stream",
     "text": [
      "The dataset had 14 duplicated values for station & datetime pairs, which we will remove in the next step\n"
     ]
    }
   ],
   "source": [
    "#Check for duplicates\n",
    "duplicate_check = turnstiles_df.groupby(['C/A', 'UNIT', 'SCP', 'STATION', 'WEEKDAY','DATETIME']).EXITS.count().reset_index().sort_values(by='EXITS', ascending = False)\n",
    "#print(duplicate_check.head(5),'\\n')\n",
    "\n",
    "duplicate_count = duplicate_check[duplicate_check['EXITS'] > 1]['STATION'].count()\n",
    "#print(duplicate_count)\n",
    "print('The dataset had', str(duplicate_count), 'duplicated values for station & datetime pairs, which we will remove in the next step')\n"
   ]
  },
  {
   "cell_type": "code",
   "execution_count": 11,
   "metadata": {},
   "outputs": [
    {
     "name": "stdout",
     "output_type": "stream",
     "text": [
      "All duplicates have been removed\n"
     ]
    }
   ],
   "source": [
    "#Remove duplicates\n",
    "turnstiles_df.sort_values(['C/A', 'UNIT', 'SCP', 'STATION', 'WEEKDAY','DATETIME'], inplace = True, ascending = False)\n",
    "turnstiles_df.drop_duplicates(subset = ['C/A', 'UNIT', 'SCP', 'STATION', 'WEEKDAY','DATETIME'], inplace = True)\n",
    "\n",
    "#Check if duplicates are gone\n",
    "duplicate_double_check = turnstiles_df.groupby(['C/A', 'UNIT', 'SCP', 'STATION', 'WEEKDAY','DATETIME']).EXITS.count().reset_index().sort_values(by='EXITS', ascending = False)\n",
    "final_duplicates = duplicate_double_check[duplicate_double_check['EXITS'] > 1]['STATION'].count()\n",
    "remaining = 'All' if final_duplicates == 0 else str(final_duplicates)\n",
    "\n",
    "print(str(remaining), 'duplicates have been removed')"
   ]
  },
  {
   "cell_type": "markdown",
   "metadata": {},
   "source": [
    "**Explore the different time intervals**"
   ]
  },
  {
   "cell_type": "code",
   "execution_count": 12,
   "metadata": {},
   "outputs": [
    {
     "data": {
      "text/plain": [
       "Text(0,0.5,'Frequency')"
      ]
     },
     "execution_count": 12,
     "metadata": {},
     "output_type": "execute_result"
    },
    {
     "data": {
      "image/png": "[encoded data removed]",
      "text/plain": [
       "<matplotlib.figure.Figure at 0x10a4d07f0>"
      ]
     },
     "metadata": {},
     "output_type": "display_data"
    }
   ],
   "source": [
    "#Understand the distribution among different times\n",
    "time_dist = turnstiles_df.groupby([turnstiles_df['DATETIME'].dt.time])['EXITS'].count().sort_values(ascending=False)\n",
    "time_dist.plot(figsize = (10, 5), xticks = ['00:00:00', '04:00:00', '08:00:00', '12:00:00', '16:00:00', '20:00:00'], color='g')\n",
    "plt.title('Distribution of values across 4 hour intervals')\n",
    "plt.xlabel('Time')\n",
    "plt.ylabel('Frequency')"
   ]
  },
  {
   "cell_type": "markdown",
   "metadata": {},
   "source": [
    "**Explore the stations with non-zero hour records**"
   ]
  },
  {
   "cell_type": "code",
   "execution_count": 13,
   "metadata": {},
   "outputs": [
    {
     "name": "stdout",
     "output_type": "stream",
     "text": [
      "DIVISION\n",
      "PTH    158346\n",
      "IND     33079\n",
      "IRT     18469\n",
      "BMT      4182\n",
      "SRT        78\n",
      "RIT        22\n",
      "Name: EXITS, dtype: int64\n",
      "\n",
      "Most (in this example - 74%) of the records are coming from PTH division, which is in New Jersey\n"
     ]
    }
   ],
   "source": [
    "non_exact_hour_df = turnstiles_df[(turnstiles_df['DATETIME'].dt.minute != 0) | (turnstiles_df['DATETIME'].dt.second != 0)]\n",
    "\n",
    "print(non_exact_hour_df.groupby(['DIVISION'])['EXITS'].count().sort_values(ascending = False))\n",
    "print('\\nMost (in this example - 74%) of the records are coming from PTH division, which is in New Jersey')"
   ]
  },
  {
   "cell_type": "markdown",
   "metadata": {},
   "source": [
    "**Remove New Jersey (PTH) stations**"
   ]
  },
  {
   "cell_type": "code",
   "execution_count": 14,
   "metadata": {},
   "outputs": [
    {
     "name": "stdout",
     "output_type": "stream",
     "text": [
      "Number of stations before dropping PTH division was 380\n",
      "Number of stations after dropping PTH division was 361\n",
      "Number stations dropped as New Jersey stations is 19.\n",
      "7.0% of all records have been excluded as New Jersey data.\n"
     ]
    }
   ],
   "source": [
    "print('Number of stations before dropping PTH division was', str(len(turnstiles_df['STATION'].unique())))\n",
    "\n",
    "turnstile_no_PTH = turnstiles_df[turnstiles_df['DIVISION'] != 'PTH']\n",
    "#turnstile_no_PTH[turnstile_no_PTH['DIVISION'] == 'PTH']['STATION'].count()\n",
    "\n",
    "total_records = turnstiles_df['DATETIME'].count()\n",
    "total_no_PTH_records = turnstile_no_PTH['DATETIME'].count()\n",
    "\n",
    "print('Number of stations after dropping PTH division was', str(len(turnstile_no_PTH['STATION'].unique())))\n",
    "print('Number stations dropped as New Jersey stations is', str(len(turnstiles_df['STATION'].unique()) - len(turnstile_no_PTH['STATION'].unique()))+'.')\n",
    "\n",
    "print(str(round(((total_records - total_no_PTH_records) / total_no_PTH_records) * 100, 0))+ '% of all records have been excluded as New Jersey data.')"
   ]
  },
  {
   "cell_type": "markdown",
   "metadata": {},
   "source": [
    "**Explore remaining non-exact hours records**"
   ]
  },
  {
   "cell_type": "code",
   "execution_count": 15,
   "metadata": {},
   "outputs": [
    {
     "name": "stdout",
     "output_type": "stream",
     "text": [
      "Number of stations with minutes equal to zero: 2333724\n",
      "Number of stations with minutes not equal to zero: 55830\n",
      "2.0% of records were not recorded at exact hour.\n"
     ]
    }
   ],
   "source": [
    "#Quantify how many records there are with non-zero minute:second pairs\n",
    "exact_hour = turnstile_no_PTH['STATION'][(turnstile_no_PTH['DATETIME'].dt.minute == 0) & (turnstile_no_PTH['DATETIME'].dt.second == 0)].count()\n",
    "non_exact_hour = turnstile_no_PTH['STATION'][(turnstile_no_PTH['DATETIME'].dt.minute != 0) | (turnstile_no_PTH['DATETIME'].dt.second != 0)].count()\n",
    "\n",
    "print('Number of stations with minutes equal to zero:', exact_hour)\n",
    "print('Number of stations with minutes not equal to zero:', non_exact_hour)\n",
    "print(str(round((non_exact_hour / (exact_hour + non_exact_hour)) * 100, 0))+ '% of records were not recorded at exact hour.')"
   ]
  },
  {
   "cell_type": "code",
   "execution_count": 16,
   "metadata": {},
   "outputs": [
    {
     "name": "stdout",
     "output_type": "stream",
     "text": [
      "Number of stations before cleaning non-exact hour records is 361.\n",
      "Number of stations after cleaning non-exact hour records is 358.\n",
      "The following 3 stations have been excluded from the dataset: ['161/YANKEE STAD', '15 ST-PROSPECT', 'KEW GARDENS']\n"
     ]
    }
   ],
   "source": [
    "print('Number of stations before cleaning non-exact hour records is', str(len(turnstile_no_PTH['STATION'].unique()))+'.')\n",
    "\n",
    "#Remove timestamps with non-zero minutes and seconds\n",
    "turnstiles_clean = turnstile_no_PTH[(turnstile_no_PTH['DATETIME'].dt.minute == 0) & (turnstile_no_PTH['DATETIME'].dt.second == 0)]\n",
    "print('Number of stations after cleaning non-exact hour records is', str(len(turnstiles_clean['STATION'].unique()))+'.')\n",
    "\n",
    "excluded = turnstile_no_PTH[(turnstile_no_PTH['DATETIME'].dt.minute != 0) | (turnstile_no_PTH['DATETIME'].dt.second != 0)]\n",
    "incl_stations = turnstiles_clean['STATION'].unique()\n",
    "excl_stations = excluded['STATION'].unique()\n",
    "num_stations_excl = len(turnstile_no_PTH['STATION'].unique()) - len(turnstiles_clean['STATION'].unique())\n",
    "\n",
    "def dropped_stations(incl_stations, excl_stations):\n",
    "    \"\"\"Takes the list of included stations and list of excluded stations.\n",
    "    Returns the stations that have been completely droped\"\"\"\n",
    "    dropped_stations = []\n",
    "    for station in excl_stations:\n",
    "        if station not in incl_stations:\n",
    "            dropped_stations.append(station)\n",
    "    return dropped_stations\n",
    "\n",
    "print('The following', str(num_stations_excl), 'stations have been excluded from the dataset:', str(dropped_stations(incl_stations, excl_stations)))        "
   ]
  },
  {
   "cell_type": "markdown",
   "metadata": {},
   "source": [
    "**Understand if the excluded stations are significant**"
   ]
  },
  {
   "cell_type": "code",
   "execution_count": 17,
   "metadata": {},
   "outputs": [
    {
     "name": "stdout",
     "output_type": "stream",
     "text": [
      "The 3 stations that were being excluding through non-exact hour cleaning process proved to be valuable and therefore will be included in our analysis.\n"
     ]
    }
   ],
   "source": [
    "dropped_st = turnstile_no_PTH.loc[turnstile_no_PTH['STATION'].isin(['KEW GARDENS', '161/YANKEE STAD', '15 ST-PROSPECT'])]\n",
    "#dropped_st.head()\n",
    "\n",
    "#161/YANKEE STAD station consistently has the records every 4 hours (starting midnight) and 22 minutes\n",
    "#15 ST-PROSPECT and KEW GARDENS stations consistently has the records every 4 hours (starting midnight) and 30 minutes\n",
    "\n",
    "#Should probably leave these stations in, since they are recorded at a legitimate 4h period\n",
    "\n",
    "print('The', str(num_stations_excl), 'stations that were being excluding through non-exact hour cleaning process proved to be valuable and therefore will be included in our analysis.')"
   ]
  },
  {
   "cell_type": "code",
   "execution_count": 18,
   "metadata": {},
   "outputs": [
    {
     "data": {
      "text/html": [
       "<div>\n",
       "<style scoped>\n",
       "    .dataframe tbody tr th:only-of-type {\n",
       "        vertical-align: middle;\n",
       "    }\n",
       "\n",
       "    .dataframe tbody tr th {\n",
       "        vertical-align: top;\n",
       "    }\n",
       "\n",
       "    .dataframe thead th {\n",
       "        text-align: right;\n",
       "    }\n",
       "</style>\n",
       "<table border=\"1\" class=\"dataframe\">\n",
       "  <thead>\n",
       "    <tr style=\"text-align: right;\">\n",
       "      <th></th>\n",
       "      <th>C/A</th>\n",
       "      <th>UNIT</th>\n",
       "      <th>SCP</th>\n",
       "      <th>STATION</th>\n",
       "      <th>LINENAME</th>\n",
       "      <th>DIVISION</th>\n",
       "      <th>DATE</th>\n",
       "      <th>TIME</th>\n",
       "      <th>DESC</th>\n",
       "      <th>ENTRIES</th>\n",
       "      <th>EXITS</th>\n",
       "      <th>DATETIME</th>\n",
       "      <th>WEEKDAY</th>\n",
       "      <th>PREV_DATETIME</th>\n",
       "      <th>PREV_EXITS</th>\n",
       "      <th>EXITS_DIFF</th>\n",
       "    </tr>\n",
       "  </thead>\n",
       "  <tbody>\n",
       "    <tr>\n",
       "      <th>29989</th>\n",
       "      <td>H008</td>\n",
       "      <td>R248</td>\n",
       "      <td>01-00-04</td>\n",
       "      <td>1 AV</td>\n",
       "      <td>L</td>\n",
       "      <td>BMT</td>\n",
       "      <td>05/28/2016</td>\n",
       "      <td>00:00:00</td>\n",
       "      <td>REGULAR</td>\n",
       "      <td>4855006</td>\n",
       "      <td>525184</td>\n",
       "      <td>2016-05-28</td>\n",
       "      <td>Saturday</td>\n",
       "      <td>NaT</td>\n",
       "      <td>NaN</td>\n",
       "      <td>NaN</td>\n",
       "    </tr>\n",
       "    <tr>\n",
       "      <th>29948</th>\n",
       "      <td>H008</td>\n",
       "      <td>R248</td>\n",
       "      <td>01-00-03</td>\n",
       "      <td>1 AV</td>\n",
       "      <td>L</td>\n",
       "      <td>BMT</td>\n",
       "      <td>05/28/2016</td>\n",
       "      <td>00:00:00</td>\n",
       "      <td>REGULAR</td>\n",
       "      <td>952707760</td>\n",
       "      <td>997148027</td>\n",
       "      <td>2016-05-28</td>\n",
       "      <td>Saturday</td>\n",
       "      <td>2016-05-28</td>\n",
       "      <td>5.252e+05</td>\n",
       "      <td>9.966e+08</td>\n",
       "    </tr>\n",
       "    <tr>\n",
       "      <th>29907</th>\n",
       "      <td>H008</td>\n",
       "      <td>R248</td>\n",
       "      <td>01-00-02</td>\n",
       "      <td>1 AV</td>\n",
       "      <td>L</td>\n",
       "      <td>BMT</td>\n",
       "      <td>05/28/2016</td>\n",
       "      <td>00:00:00</td>\n",
       "      <td>REGULAR</td>\n",
       "      <td>7675558</td>\n",
       "      <td>18685631</td>\n",
       "      <td>2016-05-28</td>\n",
       "      <td>Saturday</td>\n",
       "      <td>2016-05-28</td>\n",
       "      <td>9.971e+08</td>\n",
       "      <td>-9.785e+08</td>\n",
       "    </tr>\n",
       "    <tr>\n",
       "      <th>29866</th>\n",
       "      <td>H008</td>\n",
       "      <td>R248</td>\n",
       "      <td>01-00-01</td>\n",
       "      <td>1 AV</td>\n",
       "      <td>L</td>\n",
       "      <td>BMT</td>\n",
       "      <td>05/28/2016</td>\n",
       "      <td>00:00:00</td>\n",
       "      <td>REGULAR</td>\n",
       "      <td>1999095</td>\n",
       "      <td>11480807</td>\n",
       "      <td>2016-05-28</td>\n",
       "      <td>Saturday</td>\n",
       "      <td>2016-05-28</td>\n",
       "      <td>1.869e+07</td>\n",
       "      <td>-7.205e+06</td>\n",
       "    </tr>\n",
       "    <tr>\n",
       "      <th>29829</th>\n",
       "      <td>H008</td>\n",
       "      <td>R248</td>\n",
       "      <td>01-00-00</td>\n",
       "      <td>1 AV</td>\n",
       "      <td>L</td>\n",
       "      <td>BMT</td>\n",
       "      <td>05/28/2016</td>\n",
       "      <td>00:00:00</td>\n",
       "      <td>REGULAR</td>\n",
       "      <td>151084215</td>\n",
       "      <td>2012770628</td>\n",
       "      <td>2016-05-28</td>\n",
       "      <td>Saturday</td>\n",
       "      <td>2016-05-28</td>\n",
       "      <td>1.148e+07</td>\n",
       "      <td>2.001e+09</td>\n",
       "    </tr>\n",
       "  </tbody>\n",
       "</table>\n",
       "</div>"
      ],
      "text/plain": [
       "        C/A  UNIT       SCP STATION LINENAME DIVISION        DATE      TIME  \\\n",
       "29989  H008  R248  01-00-04    1 AV        L      BMT  05/28/2016  00:00:00   \n",
       "29948  H008  R248  01-00-03    1 AV        L      BMT  05/28/2016  00:00:00   \n",
       "29907  H008  R248  01-00-02    1 AV        L      BMT  05/28/2016  00:00:00   \n",
       "29866  H008  R248  01-00-01    1 AV        L      BMT  05/28/2016  00:00:00   \n",
       "29829  H008  R248  01-00-00    1 AV        L      BMT  05/28/2016  00:00:00   \n",
       "\n",
       "          DESC    ENTRIES       EXITS   DATETIME   WEEKDAY PREV_DATETIME  \\\n",
       "29989  REGULAR    4855006      525184 2016-05-28  Saturday           NaT   \n",
       "29948  REGULAR  952707760   997148027 2016-05-28  Saturday    2016-05-28   \n",
       "29907  REGULAR    7675558    18685631 2016-05-28  Saturday    2016-05-28   \n",
       "29866  REGULAR    1999095    11480807 2016-05-28  Saturday    2016-05-28   \n",
       "29829  REGULAR  151084215  2012770628 2016-05-28  Saturday    2016-05-28   \n",
       "\n",
       "       PREV_EXITS  EXITS_DIFF  \n",
       "29989         NaN         NaN  \n",
       "29948   5.252e+05   9.966e+08  \n",
       "29907   9.971e+08  -9.785e+08  \n",
       "29866   1.869e+07  -7.205e+06  \n",
       "29829   1.148e+07   2.001e+09  "
      ]
     },
     "execution_count": 18,
     "metadata": {},
     "output_type": "execute_result"
    }
   ],
   "source": [
    "#Sort the data frame by DATETIME column\n",
    "turnstile_no_PTH = turnstile_no_PTH.sort_values(by = ['STATION', 'DATETIME'])\n",
    "#turnstile_no_PTH.head(15)\n",
    "\n",
    "#Add two new columns with Previous Datetime a record was taken and the actual record in PREV_EXITS\n",
    "turnstile_no_PTH['PREV_DATETIME'] = turnstile_no_PTH['DATETIME'].shift()\n",
    "turnstile_no_PTH['PREV_EXITS'] = turnstile_no_PTH['EXITS'].shift()\n",
    "#turnstile_no_PTH.head()\n",
    "\n",
    "#Add EXITS_DIFF column - Transform the Exits column from accummulative to actual per time period\n",
    "turnstile_no_PTH['EXITS_DIFF'] = turnstile_no_PTH['EXITS'].sub(turnstile_no_PTH['PREV_EXITS'])\n",
    "turnstile_no_PTH.head()"
   ]
  },
  {
   "cell_type": "markdown",
   "metadata": {},
   "source": [
    "**Drop NaN values**"
   ]
  },
  {
   "cell_type": "code",
   "execution_count": 19,
   "metadata": {},
   "outputs": [
    {
     "name": "stderr",
     "output_type": "stream",
     "text": [
      "/anaconda3/lib/python3.6/site-packages/numpy/lib/arraysetops.py:466: FutureWarning: elementwise comparison failed; returning scalar instead, but in the future will perform elementwise comparison\n",
      "  mask |= (ar1 == a)\n"
     ]
    },
    {
     "data": {
      "text/html": [
       "<div>\n",
       "<style scoped>\n",
       "    .dataframe tbody tr th:only-of-type {\n",
       "        vertical-align: middle;\n",
       "    }\n",
       "\n",
       "    .dataframe tbody tr th {\n",
       "        vertical-align: top;\n",
       "    }\n",
       "\n",
       "    .dataframe thead th {\n",
       "        text-align: right;\n",
       "    }\n",
       "</style>\n",
       "<table border=\"1\" class=\"dataframe\">\n",
       "  <thead>\n",
       "    <tr style=\"text-align: right;\">\n",
       "      <th></th>\n",
       "      <th>C/A</th>\n",
       "      <th>UNIT</th>\n",
       "      <th>SCP</th>\n",
       "      <th>STATION</th>\n",
       "      <th>LINENAME</th>\n",
       "      <th>DIVISION</th>\n",
       "      <th>DATE</th>\n",
       "      <th>TIME</th>\n",
       "      <th>DESC</th>\n",
       "      <th>ENTRIES</th>\n",
       "      <th>EXITS</th>\n",
       "      <th>DATETIME</th>\n",
       "      <th>WEEKDAY</th>\n",
       "      <th>PREV_DATETIME</th>\n",
       "      <th>PREV_EXITS</th>\n",
       "      <th>EXITS_DIFF</th>\n",
       "    </tr>\n",
       "  </thead>\n",
       "  <tbody>\n",
       "    <tr>\n",
       "      <th>29948</th>\n",
       "      <td>H008</td>\n",
       "      <td>R248</td>\n",
       "      <td>01-00-03</td>\n",
       "      <td>1 AV</td>\n",
       "      <td>L</td>\n",
       "      <td>BMT</td>\n",
       "      <td>05/28/2016</td>\n",
       "      <td>00:00:00</td>\n",
       "      <td>REGULAR</td>\n",
       "      <td>952707760</td>\n",
       "      <td>997148027</td>\n",
       "      <td>2016-05-28</td>\n",
       "      <td>Saturday</td>\n",
       "      <td>2016-05-28</td>\n",
       "      <td>5.252e+05</td>\n",
       "      <td>9.966e+08</td>\n",
       "    </tr>\n",
       "    <tr>\n",
       "      <th>29907</th>\n",
       "      <td>H008</td>\n",
       "      <td>R248</td>\n",
       "      <td>01-00-02</td>\n",
       "      <td>1 AV</td>\n",
       "      <td>L</td>\n",
       "      <td>BMT</td>\n",
       "      <td>05/28/2016</td>\n",
       "      <td>00:00:00</td>\n",
       "      <td>REGULAR</td>\n",
       "      <td>7675558</td>\n",
       "      <td>18685631</td>\n",
       "      <td>2016-05-28</td>\n",
       "      <td>Saturday</td>\n",
       "      <td>2016-05-28</td>\n",
       "      <td>9.971e+08</td>\n",
       "      <td>-9.785e+08</td>\n",
       "    </tr>\n",
       "    <tr>\n",
       "      <th>29866</th>\n",
       "      <td>H008</td>\n",
       "      <td>R248</td>\n",
       "      <td>01-00-01</td>\n",
       "      <td>1 AV</td>\n",
       "      <td>L</td>\n",
       "      <td>BMT</td>\n",
       "      <td>05/28/2016</td>\n",
       "      <td>00:00:00</td>\n",
       "      <td>REGULAR</td>\n",
       "      <td>1999095</td>\n",
       "      <td>11480807</td>\n",
       "      <td>2016-05-28</td>\n",
       "      <td>Saturday</td>\n",
       "      <td>2016-05-28</td>\n",
       "      <td>1.869e+07</td>\n",
       "      <td>-7.205e+06</td>\n",
       "    </tr>\n",
       "    <tr>\n",
       "      <th>29829</th>\n",
       "      <td>H008</td>\n",
       "      <td>R248</td>\n",
       "      <td>01-00-00</td>\n",
       "      <td>1 AV</td>\n",
       "      <td>L</td>\n",
       "      <td>BMT</td>\n",
       "      <td>05/28/2016</td>\n",
       "      <td>00:00:00</td>\n",
       "      <td>REGULAR</td>\n",
       "      <td>151084215</td>\n",
       "      <td>2012770628</td>\n",
       "      <td>2016-05-28</td>\n",
       "      <td>Saturday</td>\n",
       "      <td>2016-05-28</td>\n",
       "      <td>1.148e+07</td>\n",
       "      <td>2.001e+09</td>\n",
       "    </tr>\n",
       "    <tr>\n",
       "      <th>29786</th>\n",
       "      <td>H007</td>\n",
       "      <td>R248</td>\n",
       "      <td>00-03-02</td>\n",
       "      <td>1 AV</td>\n",
       "      <td>L</td>\n",
       "      <td>BMT</td>\n",
       "      <td>05/28/2016</td>\n",
       "      <td>00:00:00</td>\n",
       "      <td>REGULAR</td>\n",
       "      <td>5135284</td>\n",
       "      <td>428371</td>\n",
       "      <td>2016-05-28</td>\n",
       "      <td>Saturday</td>\n",
       "      <td>2016-05-28</td>\n",
       "      <td>2.013e+09</td>\n",
       "      <td>-2.012e+09</td>\n",
       "    </tr>\n",
       "  </tbody>\n",
       "</table>\n",
       "</div>"
      ],
      "text/plain": [
       "        C/A  UNIT       SCP STATION LINENAME DIVISION        DATE      TIME  \\\n",
       "29948  H008  R248  01-00-03    1 AV        L      BMT  05/28/2016  00:00:00   \n",
       "29907  H008  R248  01-00-02    1 AV        L      BMT  05/28/2016  00:00:00   \n",
       "29866  H008  R248  01-00-01    1 AV        L      BMT  05/28/2016  00:00:00   \n",
       "29829  H008  R248  01-00-00    1 AV        L      BMT  05/28/2016  00:00:00   \n",
       "29786  H007  R248  00-03-02    1 AV        L      BMT  05/28/2016  00:00:00   \n",
       "\n",
       "          DESC    ENTRIES       EXITS   DATETIME   WEEKDAY PREV_DATETIME  \\\n",
       "29948  REGULAR  952707760   997148027 2016-05-28  Saturday    2016-05-28   \n",
       "29907  REGULAR    7675558    18685631 2016-05-28  Saturday    2016-05-28   \n",
       "29866  REGULAR    1999095    11480807 2016-05-28  Saturday    2016-05-28   \n",
       "29829  REGULAR  151084215  2012770628 2016-05-28  Saturday    2016-05-28   \n",
       "29786  REGULAR    5135284      428371 2016-05-28  Saturday    2016-05-28   \n",
       "\n",
       "       PREV_EXITS  EXITS_DIFF  \n",
       "29948   5.252e+05   9.966e+08  \n",
       "29907   9.971e+08  -9.785e+08  \n",
       "29866   1.869e+07  -7.205e+06  \n",
       "29829   1.148e+07   2.001e+09  \n",
       "29786   2.013e+09  -2.012e+09  "
      ]
     },
     "execution_count": 19,
     "metadata": {},
     "output_type": "execute_result"
    }
   ],
   "source": [
    "#Remove rows with NaN values in previous exits column\n",
    "turnstile_no_PTH = turnstile_no_PTH.drop(['EXITS_DIFF'], axis=0).dropna()\n",
    "turnstile_no_PTH.head()\n"
   ]
  },
  {
   "cell_type": "markdown",
   "metadata": {},
   "source": [
    "**Shorten the DataFrame**"
   ]
  },
  {
   "cell_type": "code",
   "execution_count": 20,
   "metadata": {},
   "outputs": [
    {
     "data": {
      "text/html": [
       "<div>\n",
       "<style scoped>\n",
       "    .dataframe tbody tr th:only-of-type {\n",
       "        vertical-align: middle;\n",
       "    }\n",
       "\n",
       "    .dataframe tbody tr th {\n",
       "        vertical-align: top;\n",
       "    }\n",
       "\n",
       "    .dataframe thead th {\n",
       "        text-align: right;\n",
       "    }\n",
       "</style>\n",
       "<table border=\"1\" class=\"dataframe\">\n",
       "  <thead>\n",
       "    <tr style=\"text-align: right;\">\n",
       "      <th></th>\n",
       "      <th>STATION</th>\n",
       "      <th>WEEKDAY</th>\n",
       "      <th>DATETIME</th>\n",
       "      <th>EXITS_DIFF</th>\n",
       "    </tr>\n",
       "  </thead>\n",
       "  <tbody>\n",
       "    <tr>\n",
       "      <th>0</th>\n",
       "      <td>1 AV</td>\n",
       "      <td>Friday</td>\n",
       "      <td>2016-06-03 00:00:00</td>\n",
       "      <td>727.0</td>\n",
       "    </tr>\n",
       "    <tr>\n",
       "      <th>1</th>\n",
       "      <td>1 AV</td>\n",
       "      <td>Friday</td>\n",
       "      <td>2016-06-03 04:00:00</td>\n",
       "      <td>186.0</td>\n",
       "    </tr>\n",
       "    <tr>\n",
       "      <th>2</th>\n",
       "      <td>1 AV</td>\n",
       "      <td>Friday</td>\n",
       "      <td>2016-06-03 08:00:00</td>\n",
       "      <td>833.0</td>\n",
       "    </tr>\n",
       "    <tr>\n",
       "      <th>3</th>\n",
       "      <td>1 AV</td>\n",
       "      <td>Friday</td>\n",
       "      <td>2016-06-03 12:00:00</td>\n",
       "      <td>1295.0</td>\n",
       "    </tr>\n",
       "    <tr>\n",
       "      <th>4</th>\n",
       "      <td>1 AV</td>\n",
       "      <td>Friday</td>\n",
       "      <td>2016-06-03 16:00:00</td>\n",
       "      <td>868.0</td>\n",
       "    </tr>\n",
       "    <tr>\n",
       "      <th>5</th>\n",
       "      <td>1 AV</td>\n",
       "      <td>Friday</td>\n",
       "      <td>2016-06-10 00:00:00</td>\n",
       "      <td>759.0</td>\n",
       "    </tr>\n",
       "    <tr>\n",
       "      <th>6</th>\n",
       "      <td>1 AV</td>\n",
       "      <td>Friday</td>\n",
       "      <td>2016-06-10 04:00:00</td>\n",
       "      <td>189.0</td>\n",
       "    </tr>\n",
       "    <tr>\n",
       "      <th>7</th>\n",
       "      <td>1 AV</td>\n",
       "      <td>Friday</td>\n",
       "      <td>2016-06-10 08:00:00</td>\n",
       "      <td>924.0</td>\n",
       "    </tr>\n",
       "    <tr>\n",
       "      <th>8</th>\n",
       "      <td>1 AV</td>\n",
       "      <td>Friday</td>\n",
       "      <td>2016-06-10 12:00:00</td>\n",
       "      <td>1435.0</td>\n",
       "    </tr>\n",
       "    <tr>\n",
       "      <th>9</th>\n",
       "      <td>1 AV</td>\n",
       "      <td>Friday</td>\n",
       "      <td>2016-06-10 16:00:00</td>\n",
       "      <td>873.0</td>\n",
       "    </tr>\n",
       "  </tbody>\n",
       "</table>\n",
       "</div>"
      ],
      "text/plain": [
       "  STATION WEEKDAY            DATETIME  EXITS_DIFF\n",
       "0    1 AV  Friday 2016-06-03 00:00:00       727.0\n",
       "1    1 AV  Friday 2016-06-03 04:00:00       186.0\n",
       "2    1 AV  Friday 2016-06-03 08:00:00       833.0\n",
       "3    1 AV  Friday 2016-06-03 12:00:00      1295.0\n",
       "4    1 AV  Friday 2016-06-03 16:00:00       868.0\n",
       "5    1 AV  Friday 2016-06-10 00:00:00       759.0\n",
       "6    1 AV  Friday 2016-06-10 04:00:00       189.0\n",
       "7    1 AV  Friday 2016-06-10 08:00:00       924.0\n",
       "8    1 AV  Friday 2016-06-10 12:00:00      1435.0\n",
       "9    1 AV  Friday 2016-06-10 16:00:00       873.0"
      ]
     },
     "execution_count": 20,
     "metadata": {},
     "output_type": "execute_result"
    }
   ],
   "source": [
    "turnstile_short = turnstile_no_PTH.groupby(['STATION', 'WEEKDAY','DATETIME'])['EXITS_DIFF'].sum()\n",
    "turnstile_short = turnstile_short.reset_index()\n",
    "turnstile_short.head(10)"
   ]
  },
  {
   "cell_type": "markdown",
   "metadata": {},
   "source": [
    "**Converting all EXITS_DIFF to positive values**"
   ]
  },
  {
   "cell_type": "code",
   "execution_count": 21,
   "metadata": {},
   "outputs": [
    {
     "data": {
      "text/html": [
       "<div>\n",
       "<style scoped>\n",
       "    .dataframe tbody tr th:only-of-type {\n",
       "        vertical-align: middle;\n",
       "    }\n",
       "\n",
       "    .dataframe tbody tr th {\n",
       "        vertical-align: top;\n",
       "    }\n",
       "\n",
       "    .dataframe thead th {\n",
       "        text-align: right;\n",
       "    }\n",
       "</style>\n",
       "<table border=\"1\" class=\"dataframe\">\n",
       "  <thead>\n",
       "    <tr style=\"text-align: right;\">\n",
       "      <th></th>\n",
       "      <th>STATION</th>\n",
       "      <th>WEEKDAY</th>\n",
       "      <th>DATETIME</th>\n",
       "      <th>EXITS_DIFF</th>\n",
       "    </tr>\n",
       "  </thead>\n",
       "  <tbody>\n",
       "    <tr>\n",
       "      <th>0</th>\n",
       "      <td>1 AV</td>\n",
       "      <td>Friday</td>\n",
       "      <td>2016-06-03 00:00:00</td>\n",
       "      <td>727.0</td>\n",
       "    </tr>\n",
       "    <tr>\n",
       "      <th>1</th>\n",
       "      <td>1 AV</td>\n",
       "      <td>Friday</td>\n",
       "      <td>2016-06-03 04:00:00</td>\n",
       "      <td>186.0</td>\n",
       "    </tr>\n",
       "    <tr>\n",
       "      <th>2</th>\n",
       "      <td>1 AV</td>\n",
       "      <td>Friday</td>\n",
       "      <td>2016-06-03 08:00:00</td>\n",
       "      <td>833.0</td>\n",
       "    </tr>\n",
       "    <tr>\n",
       "      <th>3</th>\n",
       "      <td>1 AV</td>\n",
       "      <td>Friday</td>\n",
       "      <td>2016-06-03 12:00:00</td>\n",
       "      <td>1295.0</td>\n",
       "    </tr>\n",
       "    <tr>\n",
       "      <th>4</th>\n",
       "      <td>1 AV</td>\n",
       "      <td>Friday</td>\n",
       "      <td>2016-06-03 16:00:00</td>\n",
       "      <td>868.0</td>\n",
       "    </tr>\n",
       "  </tbody>\n",
       "</table>\n",
       "</div>"
      ],
      "text/plain": [
       "  STATION WEEKDAY            DATETIME  EXITS_DIFF\n",
       "0    1 AV  Friday 2016-06-03 00:00:00       727.0\n",
       "1    1 AV  Friday 2016-06-03 04:00:00       186.0\n",
       "2    1 AV  Friday 2016-06-03 08:00:00       833.0\n",
       "3    1 AV  Friday 2016-06-03 12:00:00      1295.0\n",
       "4    1 AV  Friday 2016-06-03 16:00:00       868.0"
      ]
     },
     "execution_count": 21,
     "metadata": {},
     "output_type": "execute_result"
    }
   ],
   "source": [
    "turnstile_short['EXITS_DIFF'] = abs(turnstile_short['EXITS_DIFF'])\n",
    "turnstile_short.head()"
   ]
  },
  {
   "cell_type": "code",
   "execution_count": 22,
   "metadata": {},
   "outputs": [
    {
     "data": {
      "text/plain": [
       "Text(0,0.5,'Exits')"
      ]
     },
     "execution_count": 22,
     "metadata": {},
     "output_type": "execute_result"
    },
    {
     "data": {
      "image/png": "[encoded data removed]",
      "text/plain": [
       "<matplotlib.figure.Figure at 0x1708f6e48>"
      ]
     },
     "metadata": {},
     "output_type": "display_data"
    }
   ],
   "source": [
    "#Explore the distribution of EXITS_DIFF column\n",
    "turnstile_short['EXITS_DIFF'].plot(title = 'Absolute Number of Exits Distribution', figsize = (10, 5), color = 'c')\n",
    "plt.xlabel('Records per station & Date-Time pair')\n",
    "plt.ylabel('Exits')\n"
   ]
  },
  {
   "cell_type": "markdown",
   "metadata": {},
   "source": [
    "**Remove the extreme values and outliers**"
   ]
  },
  {
   "cell_type": "code",
   "execution_count": 25,
   "metadata": {},
   "outputs": [
    {
     "data": {
      "image/png": "[encoded data removed]",
      "text/plain": [
       "<matplotlib.figure.Figure at 0x173d28630>"
      ]
     },
     "metadata": {},
     "output_type": "display_data"
    }
   ],
   "source": [
    "turnstile_less_mln = turnstile_short.copy()\n",
    "#turnstile_less_mln.head()\n",
    "\n",
    "new_exits_mln = turnstile_less_mln.loc[turnstile_less_mln['EXITS_DIFF'] < 1 * 10**6]['EXITS_DIFF']\n",
    "plt.figure(figsize = (10, 5))\n",
    "plt.hist(new_exits_mln, bins=np.arange(0, 3 * 10**5, 30), color='m', log = True)\n",
    "plt.title('Exits distribution per 4 hour interval')\n",
    "plt.xlabel('Exits (limit = 300k)')\n",
    "plt.ylabel('Frequency (log)')\n",
    "plt.show()"
   ]
  },
  {
   "cell_type": "code",
   "execution_count": 27,
   "metadata": {},
   "outputs": [
    {
     "data": {
      "image/png": "[encoded data removed]",
      "text/plain": [
       "<matplotlib.figure.Figure at 0x176b4db38>"
      ]
     },
     "metadata": {},
     "output_type": "display_data"
    }
   ],
   "source": [
    "#Normal y-scale with limit of 3000\n",
    "plt.figure(figsize = (10, 5))\n",
    "plt.hist(new_exits_mln, bins=np.arange(0, 3 * 10**3, 30), color='m')\n",
    "plt.title('Exits distribution per 4 hour interval')\n",
    "plt.xlabel('Exits (limit = 3000)')\n",
    "plt.ylabel('Frequency')\n",
    "plt.show()"
   ]
  },
  {
   "cell_type": "code",
   "execution_count": null,
   "metadata": {},
   "outputs": [],
   "source": []
  }
 ],
 "metadata": {
  "kernelspec": {
   "display_name": "Python 3",
   "language": "python",
   "name": "python3"
  },
  "language_info": {
   "codemirror_mode": {
    "name": "ipython",
    "version": 3
   },
   "file_extension": ".py",
   "mimetype": "text/x-python",
   "name": "python",
   "nbconvert_exporter": "python",
   "pygments_lexer": "ipython3",
   "version": "3.6.5"
  }
 },
 "nbformat": 4,
 "nbformat_minor": 2
}
