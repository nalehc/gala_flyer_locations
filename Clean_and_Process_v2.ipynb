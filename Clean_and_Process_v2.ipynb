{
 "cells": [
  {
   "cell_type": "code",
   "execution_count": 241,
   "metadata": {},
   "outputs": [],
   "source": [
    "# imports a library 'pandas', names it as 'pd'\n",
    "import pandas as pd\n",
    "import os\n",
    "import numpy as np\n",
    "import matplotlib.pyplot as plt\n",
    "from datetime import datetime as dt\n",
    "import datetime\n",
    "from bisect import bisect\n",
    "import pickle\n",
    "import csv\n",
    "filename = '/home/williamcottrell72/github/sf18_ds11/class_lectures/week01-benson/02-git_viz/turnstiles.pkl'\n",
    "from IPython.display import Image\n",
    "\n",
    "# enables inline plots, without it plots don't show up in the notebook\n",
    "%matplotlib inline\n",
    "\n",
    "\n",
    "def fix_time(num):\n",
    "    if len(str(num)) == 2:\n",
    "        return str(num)\n",
    "    else:\n",
    "        return '0'+str(num)\n",
    "\n",
    "def get_week_nums(month,yrs_back):\n",
    "    week_list=[]\n",
    "    ref_date=datetime.date(2018,6,30)\n",
    "    weeks_back=yrs_back*52\n",
    "    for i in range(weeks_back):\n",
    "        week_shift=datetime.timedelta(-7*i)\n",
    "        new=ref_date+week_shift\n",
    "        yr=str(new.year)[-2:]\n",
    "        mt=fix_time(new.month)\n",
    "        day=fix_time(new.day)\n",
    "        string=yr+mt+day\n",
    "        if int(mt)==month:\n",
    "            week_list.append(int(string))\n",
    "    return week_list\n",
    "\n",
    "def scrape_pkl(week_nums,filename):\n",
    "    try:\n",
    "        with open(filename,'rb') as pklfile:\n",
    "            df = pickle.load(pklfile)\n",
    "\n",
    "    except:\n",
    "\n",
    "        df = scrape(week_nums)\n",
    "\n",
    "        with open(filename,'wb') as pklfile:\n",
    "            df = pickle.dump(df, pklfile)\n",
    "    return df\n",
    "\n",
    "\n",
    "\n",
    "def fn(row):\n",
    "    return (row['datetime'].second==0)&(row['datetime'].minute==0)\n",
    "\n",
    "def clean_df(df):\n",
    "    cols={x:x.strip() for x in df.columns}\n",
    "    df_small=df.rename(columns=cols)\n",
    "    df_small['datetime']=pd.to_datetime(df_small['DATE']+' '+df_small['TIME'],infer_datetime_format=True)\n",
    "    df_small_clean=df_small[df_small.apply(fn,axis=1)].drop_duplicates(subset=['C/A','UNIT','SCP','STATION','LINENAME','datetime'])\n",
    "    df_small_clean2=df_small_clean.groupby(['STATION','datetime'],as_index=False)[['EXITS']].sum()\n",
    "    return df_small_clean2\n",
    "\n",
    "def station_activity(df,station):\n",
    "    df_station=df[df['STATION']==station]\n",
    "    df_sort=df_station.sort_values(by=['datetime'])\n",
    "    return df_sort\n",
    "\n",
    "def construct_dct(df):\n",
    "    stations=df['STATION'].unique()\n",
    "    station_diffs_dct={}\n",
    "    for st in stations:\n",
    "        sa=station_activity(df,st)\n",
    "        sa['diffs']=pd.DataFrame(sa['EXITS'].diff())\n",
    "        st_diffs=sa.drop(['EXITS'],axis=1).dropna()\n",
    "        st_diffs_clean=st_diffs[np.abs(st_diffs.diffs)<30*10**3]    \n",
    "        st_diffs_clean['weekday']=st_diffs_clean['datetime'].dt.weekday\n",
    "        st_diffs_clean['hour']=st_diffs_clean['datetime'].dt.hour\n",
    "        st_diffs_clean2=st_diffs_clean.groupby(['weekday','hour'])['diffs'].mean()\n",
    "        station_diffs_dct[st]=st_diffs_clean2\n",
    "    return station_diffs_dct\n",
    "\n",
    "def find_key(num,hours_list):\n",
    "    sort=sorted(hours_list)\n",
    "    pos=bisect(sort,num)\n",
    "    if pos < len(sort):\n",
    "        return sort[pos]\n",
    "    else:\n",
    "        return sort[0]\n",
    "    \n",
    "def activity_by_time(day,hour,dct):\n",
    "    stations=list(set(dct.keys()))\n",
    "    exits=[]\n",
    "    for st in stations:\n",
    "        try:\n",
    "            \"\"\"Below we are assuming that the hour list appearing is consistent for\n",
    "            a given station. (I take the first element of the list as being represent-\n",
    "            ative.) Should check this\"\"\"\n",
    "            hours_st=dct[st][0].keys().values\n",
    "            sh=sorted(hours_st)\n",
    "            h_key=find_key(hour,sh)\n",
    "            leaving=dct[st][day][h_key]/4\n",
    "            \"\"\"\n",
    "            Below I apply np.abs to account for the possibility that the turnstile was\n",
    "            reversed for some period of time.\n",
    "            \"\"\"             \n",
    "            exits.append([st,np.abs(leaving)])\n",
    "        except(KeyError,IndexError,AttributeError):\n",
    "            pass\n",
    "    sort_exits=sorted(exits,key=lambda x: x[1])[::-1]    \n",
    "    return sort_exits\n",
    "\n",
    "\n",
    "def main(month,day,hour,yrs_back=3):\n",
    "    week_nums=get_week_nums(month,yrs_back)\n",
    "    df=scrape_pkl(week_nums,filename)\n",
    "    df_c=clean_df(df)\n",
    "    dct=construct_dct(df_c)\n",
    "    \n",
    "    return (activity_by_time(day,hour,dct),dct,df)"
   ]
  },
  {
   "cell_type": "code",
   "execution_count": 242,
   "metadata": {},
   "outputs": [
    {
     "name": "stderr",
     "output_type": "stream",
     "text": [
      "/home/williamcottrell72/anaconda3/lib/python3.6/site-packages/ipykernel_launcher.py:78: SettingWithCopyWarning: \n",
      "A value is trying to be set on a copy of a slice from a DataFrame.\n",
      "Try using .loc[row_indexer,col_indexer] = value instead\n",
      "\n",
      "See the caveats in the documentation: http://pandas.pydata.org/pandas-docs/stable/indexing.html#indexing-view-versus-copy\n",
      "/home/williamcottrell72/anaconda3/lib/python3.6/site-packages/ipykernel_launcher.py:79: SettingWithCopyWarning: \n",
      "A value is trying to be set on a copy of a slice from a DataFrame.\n",
      "Try using .loc[row_indexer,col_indexer] = value instead\n",
      "\n",
      "See the caveats in the documentation: http://pandas.pydata.org/pandas-docs/stable/indexing.html#indexing-view-versus-copy\n"
     ]
    }
   ],
   "source": [
    "activity,dct,df = main(6,4,5)"
   ]
  },
  {
   "cell_type": "code",
   "execution_count": 243,
   "metadata": {},
   "outputs": [],
   "source": [
    "cols={x:x.strip() for x in df.columns}\n",
    "df_small=df.rename(columns=cols)\n",
    "df_tmp=df_small[df_small.STATION=='CORTLANDT ST'].groupby(['DATE','TIME','STATION'],as_index=False)['EXITS'].sum()"
   ]
  },
  {
   "cell_type": "code",
   "execution_count": 245,
   "metadata": {},
   "outputs": [
    {
     "data": {
      "text/html": [
       "<div>\n",
       "<style scoped>\n",
       "    .dataframe tbody tr th:only-of-type {\n",
       "        vertical-align: middle;\n",
       "    }\n",
       "\n",
       "    .dataframe tbody tr th {\n",
       "        vertical-align: top;\n",
       "    }\n",
       "\n",
       "    .dataframe thead th {\n",
       "        text-align: right;\n",
       "    }\n",
       "</style>\n",
       "<table border=\"1\" class=\"dataframe\">\n",
       "  <thead>\n",
       "    <tr style=\"text-align: right;\">\n",
       "      <th></th>\n",
       "      <th>EXITS</th>\n",
       "    </tr>\n",
       "  </thead>\n",
       "  <tbody>\n",
       "    <tr>\n",
       "      <th>1</th>\n",
       "      <td>49.0</td>\n",
       "    </tr>\n",
       "    <tr>\n",
       "      <th>2</th>\n",
       "      <td>236.0</td>\n",
       "    </tr>\n",
       "    <tr>\n",
       "      <th>4</th>\n",
       "      <td>1163.0</td>\n",
       "    </tr>\n",
       "    <tr>\n",
       "      <th>5</th>\n",
       "      <td>908.0</td>\n",
       "    </tr>\n",
       "    <tr>\n",
       "      <th>6</th>\n",
       "      <td>318.0</td>\n",
       "    </tr>\n",
       "  </tbody>\n",
       "</table>\n",
       "</div>"
      ],
      "text/plain": [
       "    EXITS\n",
       "1    49.0\n",
       "2   236.0\n",
       "4  1163.0\n",
       "5   908.0\n",
       "6   318.0"
      ]
     },
     "execution_count": 245,
     "metadata": {},
     "output_type": "execute_result"
    }
   ],
   "source": [
    "df_tmp3.head()"
   ]
  },
  {
   "cell_type": "code",
   "execution_count": 247,
   "metadata": {},
   "outputs": [
    {
     "data": {
      "text/plain": [
       "219.72752808988764"
      ]
     },
     "execution_count": 247,
     "metadata": {},
     "output_type": "execute_result"
    }
   ],
   "source": [
    "df_tmp2=pd.DataFrame(df_tmp['EXITS'].diff()).dropna()\n",
    "df_tmp3=df_tmp2[np.abs(df_tmp2.EXITS) < 3*10**3]\n",
    "np.mean([np.abs(x)[0] for x in df_tmp3.values])/4"
   ]
  },
  {
   "cell_type": "code",
   "execution_count": 248,
   "metadata": {},
   "outputs": [],
   "source": [
    "df_tmp['diffs']=df_tmp['EXITS'].diff().dropna()"
   ]
  },
  {
   "cell_type": "code",
   "execution_count": 249,
   "metadata": {},
   "outputs": [
    {
     "data": {
      "text/html": [
       "<div>\n",
       "<style scoped>\n",
       "    .dataframe tbody tr th:only-of-type {\n",
       "        vertical-align: middle;\n",
       "    }\n",
       "\n",
       "    .dataframe tbody tr th {\n",
       "        vertical-align: top;\n",
       "    }\n",
       "\n",
       "    .dataframe thead th {\n",
       "        text-align: right;\n",
       "    }\n",
       "</style>\n",
       "<table border=\"1\" class=\"dataframe\">\n",
       "  <thead>\n",
       "    <tr style=\"text-align: right;\">\n",
       "      <th></th>\n",
       "      <th>DATE</th>\n",
       "      <th>TIME</th>\n",
       "      <th>STATION</th>\n",
       "      <th>EXITS</th>\n",
       "      <th>diffs</th>\n",
       "    </tr>\n",
       "  </thead>\n",
       "  <tbody>\n",
       "    <tr>\n",
       "      <th>52</th>\n",
       "      <td>07/09/2017</td>\n",
       "      <td>17:00:00</td>\n",
       "      <td>CORTLANDT ST</td>\n",
       "      <td>922961559</td>\n",
       "      <td>-636970.0</td>\n",
       "    </tr>\n",
       "    <tr>\n",
       "      <th>53</th>\n",
       "      <td>07/09/2017</td>\n",
       "      <td>21:00:00</td>\n",
       "      <td>CORTLANDT ST</td>\n",
       "      <td>923603014</td>\n",
       "      <td>641455.0</td>\n",
       "    </tr>\n",
       "    <tr>\n",
       "      <th>57</th>\n",
       "      <td>07/10/2017</td>\n",
       "      <td>13:00:00</td>\n",
       "      <td>CORTLANDT ST</td>\n",
       "      <td>922972564</td>\n",
       "      <td>-635641.0</td>\n",
       "    </tr>\n",
       "    <tr>\n",
       "      <th>58</th>\n",
       "      <td>07/10/2017</td>\n",
       "      <td>17:00:00</td>\n",
       "      <td>CORTLANDT ST</td>\n",
       "      <td>923614932</td>\n",
       "      <td>642368.0</td>\n",
       "    </tr>\n",
       "    <tr>\n",
       "      <th>66</th>\n",
       "      <td>07/11/2017</td>\n",
       "      <td>21:00:00</td>\n",
       "      <td>CORTLANDT ST</td>\n",
       "      <td>922994426</td>\n",
       "      <td>-636184.0</td>\n",
       "    </tr>\n",
       "    <tr>\n",
       "      <th>73</th>\n",
       "      <td>07/12/2017</td>\n",
       "      <td>21:00:00</td>\n",
       "      <td>CORTLANDT ST</td>\n",
       "      <td>923649947</td>\n",
       "      <td>643390.0</td>\n",
       "    </tr>\n",
       "    <tr>\n",
       "      <th>76</th>\n",
       "      <td>07/13/2017</td>\n",
       "      <td>09:00:00</td>\n",
       "      <td>CORTLANDT ST</td>\n",
       "      <td>923015179</td>\n",
       "      <td>-635595.0</td>\n",
       "    </tr>\n",
       "    <tr>\n",
       "      <th>77</th>\n",
       "      <td>07/13/2017</td>\n",
       "      <td>13:00:00</td>\n",
       "      <td>CORTLANDT ST</td>\n",
       "      <td>923659208</td>\n",
       "      <td>644029.0</td>\n",
       "    </tr>\n",
       "    <tr>\n",
       "      <th>78</th>\n",
       "      <td>07/13/2017</td>\n",
       "      <td>17:00:00</td>\n",
       "      <td>CORTLANDT ST</td>\n",
       "      <td>923022533</td>\n",
       "      <td>-636675.0</td>\n",
       "    </tr>\n",
       "  </tbody>\n",
       "</table>\n",
       "</div>"
      ],
      "text/plain": [
       "          DATE      TIME       STATION      EXITS     diffs\n",
       "52  07/09/2017  17:00:00  CORTLANDT ST  922961559 -636970.0\n",
       "53  07/09/2017  21:00:00  CORTLANDT ST  923603014  641455.0\n",
       "57  07/10/2017  13:00:00  CORTLANDT ST  922972564 -635641.0\n",
       "58  07/10/2017  17:00:00  CORTLANDT ST  923614932  642368.0\n",
       "66  07/11/2017  21:00:00  CORTLANDT ST  922994426 -636184.0\n",
       "73  07/12/2017  21:00:00  CORTLANDT ST  923649947  643390.0\n",
       "76  07/13/2017  09:00:00  CORTLANDT ST  923015179 -635595.0\n",
       "77  07/13/2017  13:00:00  CORTLANDT ST  923659208  644029.0\n",
       "78  07/13/2017  17:00:00  CORTLANDT ST  923022533 -636675.0"
      ]
     },
     "execution_count": 249,
     "metadata": {},
     "output_type": "execute_result"
    }
   ],
   "source": [
    "df_tmp[(np.abs(df_tmp.diffs)<10**6) & (np.abs(df_tmp.diffs)>10000)]"
   ]
  },
  {
   "cell_type": "code",
   "execution_count": 143,
   "metadata": {},
   "outputs": [
    {
     "data": {
      "text/html": [
       "<div>\n",
       "<style scoped>\n",
       "    .dataframe tbody tr th:only-of-type {\n",
       "        vertical-align: middle;\n",
       "    }\n",
       "\n",
       "    .dataframe tbody tr th {\n",
       "        vertical-align: top;\n",
       "    }\n",
       "\n",
       "    .dataframe thead th {\n",
       "        text-align: right;\n",
       "    }\n",
       "</style>\n",
       "<table border=\"1\" class=\"dataframe\">\n",
       "  <thead>\n",
       "    <tr style=\"text-align: right;\">\n",
       "      <th></th>\n",
       "      <th>0</th>\n",
       "      <th>1_x</th>\n",
       "      <th>1_y</th>\n",
       "    </tr>\n",
       "  </thead>\n",
       "  <tbody>\n",
       "    <tr>\n",
       "      <th>0</th>\n",
       "      <td>82 ST-JACKSON H</td>\n",
       "      <td>38335.125000</td>\n",
       "      <td>156.3125</td>\n",
       "    </tr>\n",
       "    <tr>\n",
       "      <th>1</th>\n",
       "      <td>49 ST</td>\n",
       "      <td>27808.062500</td>\n",
       "      <td>67.8125</td>\n",
       "    </tr>\n",
       "    <tr>\n",
       "      <th>2</th>\n",
       "      <td>VAN SICLEN AVE</td>\n",
       "      <td>11242.375000</td>\n",
       "      <td>NaN</td>\n",
       "    </tr>\n",
       "    <tr>\n",
       "      <th>3</th>\n",
       "      <td>JKSN HT-ROOSVLT</td>\n",
       "      <td>562.687500</td>\n",
       "      <td>514.3125</td>\n",
       "    </tr>\n",
       "    <tr>\n",
       "      <th>4</th>\n",
       "      <td>JAMAICA CENTER</td>\n",
       "      <td>345.416667</td>\n",
       "      <td>355.3125</td>\n",
       "    </tr>\n",
       "  </tbody>\n",
       "</table>\n",
       "</div>"
      ],
      "text/plain": [
       "                 0           1_x       1_y\n",
       "0  82 ST-JACKSON H  38335.125000  156.3125\n",
       "1            49 ST  27808.062500   67.8125\n",
       "2   VAN SICLEN AVE  11242.375000       NaN\n",
       "3  JKSN HT-ROOSVLT    562.687500  514.3125\n",
       "4   JAMAICA CENTER    345.416667  355.3125"
      ]
     },
     "execution_count": 143,
     "metadata": {},
     "output_type": "execute_result"
    }
   ],
   "source": [
    "pd.merge(new_df1,new_df2,on=0,how='outer').head()"
   ]
  },
  {
   "cell_type": "code",
   "execution_count": 252,
   "metadata": {},
   "outputs": [],
   "source": [
    "df=pd.DataFrame(activity_by_time(0,12,dct)[:20])\n",
    "for i in range(1,12):\n",
    "    for day in range(1,7):\n",
    "        df2=pd.DataFrame(activity_by_time(day,12+i,dct)[:20])\n",
    "        df=pd.merge(df,df2,on=0,how='outer')"
   ]
  },
  {
   "cell_type": "code",
   "execution_count": 253,
   "metadata": {},
   "outputs": [],
   "source": [
    "df_fill=df.fillna(0)"
   ]
  },
  {
   "cell_type": "code",
   "execution_count": 254,
   "metadata": {},
   "outputs": [],
   "source": [
    "#df_fill['sums']=df_fill.sum(axis=1)\n",
    "df_fill.insert(1,'sums',df_fill.sum(axis=1)/84)"
   ]
  },
  {
   "cell_type": "code",
   "execution_count": 255,
   "metadata": {},
   "outputs": [],
   "source": [
    "fin_result=df_fill[[0,'sums']].sort_values(['sums'],ascending=False).head(20)"
   ]
  },
  {
   "cell_type": "code",
   "execution_count": 256,
   "metadata": {},
   "outputs": [
    {
     "data": {
      "text/plain": [
       "array([['TIMES SQ-42 ST', 3148.2170138888882],\n",
       "       ['14 ST-UNION SQ', 2986.3298611111113],\n",
       "       ['34 ST-HERALD SQ', 2375.5850694444443],\n",
       "       ['FLUSHING-MAIN', 2041.5840773809523],\n",
       "       ['ATL AV-BARCLAY', 1703.2532242063494],\n",
       "       ['JKSN HT-ROOSVLT', 1686.421875],\n",
       "       ['59 ST COLUMBUS', 1647.1599702380952],\n",
       "       ['BEDFORD AV', 1446.298859126984],\n",
       "       ['59 ST', 1339.8407738095239],\n",
       "       ['W 4 ST-WASH SQ', 1333.3482142857142],\n",
       "       ['50 ST', 1105.9104662698414],\n",
       "       ['JAMAICA CENTER', 1059.8236607142858],\n",
       "       ['145 ST', 1057.563988095238],\n",
       "       ['7 AV', 949.905505952381],\n",
       "       [\"B'WAY-LAFAYETTE\", 746.5009920634922],\n",
       "       ['8 AV', 738.1622023809524],\n",
       "       ['CHAMBERS ST', 721.9866071428571],\n",
       "       ['42 ST-BRYANT PK', 634.0885416666666],\n",
       "       ['JUNCTION BLVD', 590.2388392857143],\n",
       "       ['47-50 STS ROCK', 579.7120535714286]], dtype=object)"
      ]
     },
     "execution_count": 256,
     "metadata": {},
     "output_type": "execute_result"
    }
   ],
   "source": [
    "fin_result.values"
   ]
  },
  {
   "cell_type": "code",
   "execution_count": 129,
   "metadata": {},
   "outputs": [
    {
     "data": {
      "text/plain": [
       "[['82 ST-JACKSON H', 38335.125],\n",
       " ['49 ST', 27808.0625],\n",
       " ['VAN SICLEN AVE', 22484.75],\n",
       " ['34 ST-HERALD SQ', 2839.6875],\n",
       " ['TIMES SQ-42 ST', 2455.375],\n",
       " ['47-50 STS ROCK', 2101.6875],\n",
       " ['59 ST', 1854.0625],\n",
       " ['LEXINGTON AV/53', 1704.3125],\n",
       " ['59 ST COLUMBUS', 1652.375],\n",
       " ['42 ST-BRYANT PK', 1193.875],\n",
       " ['CHAMBERS ST', 1151.9375],\n",
       " ['50 ST', 1124.1875],\n",
       " ['JKSN HT-ROOSVLT', 562.6875],\n",
       " ['JAMAICA CENTER', 345.4166666666667],\n",
       " ['FLUSHING-MAIN', 324.1875],\n",
       " ['103 ST-CORONA', 289.8125],\n",
       " ['145 ST', 269.3333333333333],\n",
       " ['BROAD ST', 0],\n",
       " ['36 ST', 0],\n",
       " ['7 AV', 0],\n",
       " ['4AV-9 ST', 0],\n",
       " ['GREENPOINT AV', 0],\n",
       " ['KOSCIUSZKO ST', 0],\n",
       " ['137 ST CITY COL', 0],\n",
       " ['14 ST-UNION SQ', 0],\n",
       " ['5 AV/53 ST', 0],\n",
       " ['JAMAICA 179 ST', 0],\n",
       " ['169 ST', 0],\n",
       " ['JFK JAMAICA CT1', 0],\n",
       " ['RIT-MANHATTAN', 0]]"
      ]
     },
     "execution_count": 129,
     "metadata": {},
     "output_type": "execute_result"
    }
   ],
   "source": [
    "sorted(final_result, key = lambda x: x[1])[::-1]"
   ]
  },
  {
   "cell_type": "code",
   "execution_count": 147,
   "metadata": {},
   "outputs": [
    {
     "data": {
      "text/plain": [
       "[1, 2, 3, 4, 5, 6, 7, 8, 9, 10, 11]"
      ]
     },
     "execution_count": 147,
     "metadata": {},
     "output_type": "execute_result"
    }
   ],
   "source": [
    "list(range(1,12))"
   ]
  },
  {
   "cell_type": "code",
   "execution_count": null,
   "metadata": {},
   "outputs": [],
   "source": []
  }
 ],
 "metadata": {
  "kernelspec": {
   "display_name": "Python 3",
   "language": "python",
   "name": "python3"
  },
  "language_info": {
   "codemirror_mode": {
    "name": "ipython",
    "version": 3
   },
   "file_extension": ".py",
   "mimetype": "text/x-python",
   "name": "python",
   "nbconvert_exporter": "python",
   "pygments_lexer": "ipython3",
   "version": "3.6.5"
  }
 },
 "nbformat": 4,
 "nbformat_minor": 2
}
